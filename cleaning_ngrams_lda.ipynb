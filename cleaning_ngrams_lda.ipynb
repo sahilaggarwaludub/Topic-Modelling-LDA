{
 "cells": [
  {
   "cell_type": "markdown",
   "metadata": {
    "toc": true
   },
   "source": [
    "<h1>Table of Contents<span class=\"tocSkip\"></span></h1>\n",
    "<div class=\"toc\"><ul class=\"toc-item\"><li><span><a href=\"#Imports\" data-toc-modified-id=\"Imports-1\"><span class=\"toc-item-num\">1&nbsp;&nbsp;</span>Imports</a></span></li><li><span><a href=\"#Read-Data\" data-toc-modified-id=\"Read-Data-2\"><span class=\"toc-item-num\">2&nbsp;&nbsp;</span>Read Data</a></span></li><li><span><a href=\"#Clean-the-answers\" data-toc-modified-id=\"Clean-the-answers-3\"><span class=\"toc-item-num\">3&nbsp;&nbsp;</span>Clean the answers</a></span></li><li><span><a href=\"#LDA---Topic-Modelling\" data-toc-modified-id=\"LDA---Topic-Modelling-4\"><span class=\"toc-item-num\">4&nbsp;&nbsp;</span>LDA - Topic Modelling</a></span></li><li><span><a href=\"#Results\" data-toc-modified-id=\"Results-5\"><span class=\"toc-item-num\">5&nbsp;&nbsp;</span>Results</a></span></li></ul></div>"
   ]
  },
  {
   "cell_type": "markdown",
   "metadata": {},
   "source": [
    "#### Imports"
   ]
  },
  {
   "cell_type": "code",
   "execution_count": 1,
   "metadata": {
    "ExecuteTime": {
     "end_time": "2019-05-06T21:07:21.874436Z",
     "start_time": "2019-05-06T21:07:19.135030Z"
    }
   },
   "outputs": [],
   "source": [
    "import pandas as pd\n",
    "import re\n",
    "from nltk.stem import WordNetLemmatizer\n",
    "from nltk.stem import PorterStemmer\n",
    "from nltk.corpus import stopwords\n",
    "from nltk import ngrams\n",
    "import nltk\n",
    "\n",
    "\n",
    "from sklearn.feature_extraction.text import CountVectorizer\n",
    "from sklearn.decomposition import PCA, LatentDirichletAllocation, NMF\n",
    "from sklearn.feature_extraction.text import TfidfVectorizer\n",
    "\n",
    "stop = stopwords.words('english')\n",
    "lemmatizer = WordNetLemmatizer()\n",
    "stemmer = PorterStemmer()"
   ]
  },
  {
   "cell_type": "code",
   "execution_count": 2,
   "metadata": {
    "ExecuteTime": {
     "end_time": "2019-05-06T21:07:22.048655Z",
     "start_time": "2019-05-06T21:07:21.929835Z"
    }
   },
   "outputs": [
    {
     "name": "stderr",
     "output_type": "stream",
     "text": [
      "[nltk_data] Downloading package stopwords to\n",
      "[nltk_data]     C:\\Users\\Associate\\AppData\\Roaming\\nltk_data...\n",
      "[nltk_data]   Package stopwords is already up-to-date!\n"
     ]
    },
    {
     "data": {
      "text/plain": [
       "True"
      ]
     },
     "execution_count": 2,
     "metadata": {},
     "output_type": "execute_result"
    }
   ],
   "source": [
    "nltk.download('stopwords')"
   ]
  },
  {
   "cell_type": "code",
   "execution_count": 3,
   "metadata": {
    "ExecuteTime": {
     "end_time": "2019-05-06T21:07:22.181042Z",
     "start_time": "2019-05-06T21:07:22.124542Z"
    }
   },
   "outputs": [
    {
     "name": "stderr",
     "output_type": "stream",
     "text": [
      "[nltk_data] Downloading package wordnet to\n",
      "[nltk_data]     C:\\Users\\Associate\\AppData\\Roaming\\nltk_data...\n",
      "[nltk_data]   Package wordnet is already up-to-date!\n"
     ]
    },
    {
     "data": {
      "text/plain": [
       "True"
      ]
     },
     "execution_count": 3,
     "metadata": {},
     "output_type": "execute_result"
    }
   ],
   "source": [
    "nltk.download('wordnet')"
   ]
  },
  {
   "cell_type": "markdown",
   "metadata": {},
   "source": [
    "#### Read Data"
   ]
  },
  {
   "cell_type": "code",
   "execution_count": 156,
   "metadata": {
    "ExecuteTime": {
     "end_time": "2019-05-06T21:44:55.708373Z",
     "start_time": "2019-05-06T21:44:55.690205Z"
    }
   },
   "outputs": [
    {
     "data": {
      "text/html": [
       "<div>\n",
       "<style scoped>\n",
       "    .dataframe tbody tr th:only-of-type {\n",
       "        vertical-align: middle;\n",
       "    }\n",
       "\n",
       "    .dataframe tbody tr th {\n",
       "        vertical-align: top;\n",
       "    }\n",
       "\n",
       "    .dataframe thead th {\n",
       "        text-align: right;\n",
       "    }\n",
       "</style>\n",
       "<table border=\"1\" class=\"dataframe\">\n",
       "  <thead>\n",
       "    <tr style=\"text-align: right;\">\n",
       "      <th></th>\n",
       "      <th>Based on your experience with the content provided on the Public Roadmap, how does that information influence your sales process? Please explain.</th>\n",
       "    </tr>\n",
       "  </thead>\n",
       "  <tbody>\n",
       "    <tr>\n",
       "      <th>0</th>\n",
       "      <td>I jump straight to the roadmap companion and h...</td>\n",
       "    </tr>\n",
       "    <tr>\n",
       "      <th>1</th>\n",
       "      <td>Again when I say something is 'coming' I can p...</td>\n",
       "    </tr>\n",
       "    <tr>\n",
       "      <th>2</th>\n",
       "      <td>From an OCP perspective, we are trying to enco...</td>\n",
       "    </tr>\n",
       "    <tr>\n",
       "      <th>3</th>\n",
       "      <td>As we are less feature rich then competitors l...</td>\n",
       "    </tr>\n",
       "    <tr>\n",
       "      <th>4</th>\n",
       "      <td>it helps me to guide customers better</td>\n",
       "    </tr>\n",
       "  </tbody>\n",
       "</table>\n",
       "</div>"
      ],
      "text/plain": [
       "  Based on your experience with the content provided on the Public Roadmap, how does that information influence your sales process? Please explain.\n",
       "0  I jump straight to the roadmap companion and h...                                                                                               \n",
       "1  Again when I say something is 'coming' I can p...                                                                                               \n",
       "2  From an OCP perspective, we are trying to enco...                                                                                               \n",
       "3  As we are less feature rich then competitors l...                                                                                               \n",
       "4              it helps me to guide customers better                                                                                               "
      ]
     },
     "execution_count": 156,
     "metadata": {},
     "output_type": "execute_result"
    }
   ],
   "source": [
    "df = pd.read_csv(\"Marc/q20_responses.csv\")\n",
    "df.head()"
   ]
  },
  {
   "cell_type": "code",
   "execution_count": 157,
   "metadata": {
    "ExecuteTime": {
     "end_time": "2019-05-06T21:44:57.947839Z",
     "start_time": "2019-05-06T21:44:57.940271Z"
    }
   },
   "outputs": [
    {
     "data": {
      "text/plain": [
       "Index(['Based on your experience with the content provided on the Public Roadmap, how does that information influence your sales process? Please explain.'], dtype='object')"
      ]
     },
     "execution_count": 157,
     "metadata": {},
     "output_type": "execute_result"
    }
   ],
   "source": [
    "df.columns"
   ]
  },
  {
   "cell_type": "code",
   "execution_count": 158,
   "metadata": {
    "ExecuteTime": {
     "end_time": "2019-05-06T21:45:13.777032Z",
     "start_time": "2019-05-06T21:45:13.764856Z"
    }
   },
   "outputs": [],
   "source": [
    "df = df.rename(index=str, columns={'Based on your experience with the content provided on the Public Roadmap, how does that information influence your sales process? Please explain.': 'answer'})"
   ]
  },
  {
   "cell_type": "markdown",
   "metadata": {},
   "source": [
    "#### Clean the answers"
   ]
  },
  {
   "cell_type": "code",
   "execution_count": 159,
   "metadata": {
    "ExecuteTime": {
     "end_time": "2019-05-06T21:45:14.702347Z",
     "start_time": "2019-05-06T21:45:14.693700Z"
    }
   },
   "outputs": [],
   "source": [
    "from nltk.tokenize import WordPunctTokenizer\n",
    "tok = WordPunctTokenizer()\n",
    "\n",
    "def clean_answer(text):\n",
    "    letters_only = re.sub(\"[^a-zA-Z]\", \" \", text)\n",
    "    lower_case = letters_only.lower()\n",
    "    words = tok.tokenize(lower_case)\n",
    "    return (\" \".join(words)).strip()"
   ]
  },
  {
   "cell_type": "code",
   "execution_count": 160,
   "metadata": {
    "ExecuteTime": {
     "end_time": "2019-05-06T21:45:14.956062Z",
     "start_time": "2019-05-06T21:45:14.937999Z"
    }
   },
   "outputs": [],
   "source": [
    "df['general_clean'] = df.answer.apply(clean_answer)\n",
    "df['remove_stopwords'] = df['general_clean'].apply(lambda x: ' '.join([word for word in x.split() if word not in (stop)]))"
   ]
  },
  {
   "cell_type": "code",
   "execution_count": 161,
   "metadata": {
    "ExecuteTime": {
     "end_time": "2019-05-06T21:45:15.403273Z",
     "start_time": "2019-05-06T21:45:15.398299Z"
    }
   },
   "outputs": [],
   "source": [
    "#df['third_iter'] = df.remove_stopwords.apply(lambda x: ' '.join([stemmer.stem(word) for word in x.split() ]))"
   ]
  },
  {
   "cell_type": "code",
   "execution_count": 162,
   "metadata": {
    "ExecuteTime": {
     "end_time": "2019-05-06T21:45:15.893279Z",
     "start_time": "2019-05-06T21:45:15.874326Z"
    }
   },
   "outputs": [],
   "source": [
    "df['fourth_iter'] = df.remove_stopwords.apply(lambda x: ' '.join([lemmatizer.lemmatize(word,'v') for word in x.split( )]))"
   ]
  },
  {
   "cell_type": "code",
   "execution_count": 163,
   "metadata": {
    "ExecuteTime": {
     "end_time": "2019-05-06T21:45:16.634891Z",
     "start_time": "2019-05-06T21:45:16.621189Z"
    }
   },
   "outputs": [],
   "source": [
    "df_clean = df[['fourth_iter']]"
   ]
  },
  {
   "cell_type": "markdown",
   "metadata": {},
   "source": [
    "#### LDA - Topic Modelling"
   ]
  },
  {
   "cell_type": "code",
   "execution_count": 164,
   "metadata": {
    "ExecuteTime": {
     "end_time": "2019-05-06T21:45:17.662871Z",
     "start_time": "2019-05-06T21:45:17.651170Z"
    }
   },
   "outputs": [],
   "source": [
    "def top_n_grams(min, max, df, col):\n",
    "    \"\"\"calculate the n-grams\"\"\"\n",
    "    word_vectorizer = CountVectorizer(ngram_range=(min, max), analyzer='word')\n",
    "    sparse_matrix = word_vectorizer.fit_transform(df[col])\n",
    "    frequencies = sum(sparse_matrix).toarray()[0]\n",
    "    \n",
    "    df_out = pd.DataFrame(frequencies, \n",
    "             index=word_vectorizer.get_feature_names(), \n",
    "             columns=['frequency']).reset_index().sort_values(by = ['frequency'], ascending = False)\n",
    "    \n",
    "    return(df_out.head(10))"
   ]
  },
  {
   "cell_type": "code",
   "execution_count": 165,
   "metadata": {
    "ExecuteTime": {
     "end_time": "2019-05-06T21:45:19.979459Z",
     "start_time": "2019-05-06T21:45:19.928980Z"
    }
   },
   "outputs": [
    {
     "data": {
      "text/html": [
       "<div>\n",
       "<style scoped>\n",
       "    .dataframe tbody tr th:only-of-type {\n",
       "        vertical-align: middle;\n",
       "    }\n",
       "\n",
       "    .dataframe tbody tr th {\n",
       "        vertical-align: top;\n",
       "    }\n",
       "\n",
       "    .dataframe thead th {\n",
       "        text-align: right;\n",
       "    }\n",
       "</style>\n",
       "<table border=\"1\" class=\"dataframe\">\n",
       "  <thead>\n",
       "    <tr style=\"text-align: right;\">\n",
       "      <th></th>\n",
       "      <th>index</th>\n",
       "      <th>frequency</th>\n",
       "    </tr>\n",
       "  </thead>\n",
       "  <tbody>\n",
       "    <tr>\n",
       "      <th>0</th>\n",
       "      <td>ability sell well tell</td>\n",
       "      <td>1</td>\n",
       "    </tr>\n",
       "    <tr>\n",
       "      <th>1341</th>\n",
       "      <td>prospect want look roadmap</td>\n",
       "      <td>1</td>\n",
       "    </tr>\n",
       "    <tr>\n",
       "      <th>1354</th>\n",
       "      <td>provide confidence capabilities feature releas...</td>\n",
       "      <td>1</td>\n",
       "    </tr>\n",
       "    <tr>\n",
       "      <th>1353</th>\n",
       "      <td>provide confidence capabilities feature release</td>\n",
       "      <td>1</td>\n",
       "    </tr>\n",
       "    <tr>\n",
       "      <th>1352</th>\n",
       "      <td>provide confidence capabilities feature</td>\n",
       "      <td>1</td>\n",
       "    </tr>\n",
       "    <tr>\n",
       "      <th>1351</th>\n",
       "      <td>provide come without detail many case</td>\n",
       "      <td>1</td>\n",
       "    </tr>\n",
       "    <tr>\n",
       "      <th>1350</th>\n",
       "      <td>provide come without detail many</td>\n",
       "      <td>1</td>\n",
       "    </tr>\n",
       "    <tr>\n",
       "      <th>1349</th>\n",
       "      <td>provide come without detail</td>\n",
       "      <td>1</td>\n",
       "    </tr>\n",
       "    <tr>\n",
       "      <th>1348</th>\n",
       "      <td>prove microsoft still invest build dynamics</td>\n",
       "      <td>1</td>\n",
       "    </tr>\n",
       "    <tr>\n",
       "      <th>1347</th>\n",
       "      <td>prove microsoft still invest build</td>\n",
       "      <td>1</td>\n",
       "    </tr>\n",
       "  </tbody>\n",
       "</table>\n",
       "</div>"
      ],
      "text/plain": [
       "                                                  index  frequency\n",
       "0                                ability sell well tell          1\n",
       "1341                         prospect want look roadmap          1\n",
       "1354  provide confidence capabilities feature releas...          1\n",
       "1353    provide confidence capabilities feature release          1\n",
       "1352            provide confidence capabilities feature          1\n",
       "1351              provide come without detail many case          1\n",
       "1350                   provide come without detail many          1\n",
       "1349                        provide come without detail          1\n",
       "1348        prove microsoft still invest build dynamics          1\n",
       "1347                 prove microsoft still invest build          1"
      ]
     },
     "execution_count": 165,
     "metadata": {},
     "output_type": "execute_result"
    }
   ],
   "source": [
    "top_n_grams(4,6,df_clean, 'fourth_iter')"
   ]
  },
  {
   "cell_type": "code",
   "execution_count": 166,
   "metadata": {
    "ExecuteTime": {
     "end_time": "2019-05-06T21:45:33.720900Z",
     "start_time": "2019-05-06T21:45:33.670236Z"
    }
   },
   "outputs": [],
   "source": [
    "top_n_grams(4,6,df_clean, 'fourth_iter').to_csv('Marc/Q20_most_repeated_phrases.csv')"
   ]
  },
  {
   "cell_type": "code",
   "execution_count": 167,
   "metadata": {
    "ExecuteTime": {
     "end_time": "2019-05-06T21:45:34.195815Z",
     "start_time": "2019-05-06T21:45:34.178372Z"
    }
   },
   "outputs": [],
   "source": [
    "def generate_df(model, feature_names, n_top_words):\n",
    "    topics = []\n",
    "    for topic_idx, topic in enumerate(model.components_):\n",
    "        topic = [\" \".join([feature_names[i]\n",
    "                           for i in topic.argsort()[:-n_top_words - 1:-1]])]\n",
    "        topic.append(topic_idx + 1)\n",
    "        topics.append(topic)\n",
    "    df = pd.DataFrame(topics)\n",
    "    df.columns = [\"topic\", \"topic_number\"]\n",
    "    return df\n",
    "\n",
    "\n",
    "def lda_model(df, n_topic=5, n_word=5, max_features=1000):\n",
    "    '''model for latent dirichlect allocation'''\n",
    "    lda = LatentDirichletAllocation(n_components=n_topic, max_iter=10,\n",
    "                                    learning_method='online', learning_offset=10., random_state=42)\n",
    "    tfid = TfidfVectorizer(max_df=0.95, min_df=3, max_features=max_features)\n",
    "    tfidf_text = tfid.fit_transform(df.fourth_iter)\n",
    "    lda_text = lda.fit(tfidf_text)\n",
    "    tfidf_feature_names = tfid.get_feature_names()\n",
    "    lda_df = generate_df(lda_text, tfidf_feature_names, n_word)\n",
    "    return lda_df"
   ]
  },
  {
   "cell_type": "markdown",
   "metadata": {},
   "source": [
    "#### Results"
   ]
  },
  {
   "cell_type": "code",
   "execution_count": 181,
   "metadata": {
    "ExecuteTime": {
     "end_time": "2019-05-06T21:49:04.624968Z",
     "start_time": "2019-05-06T21:49:04.464777Z"
    }
   },
   "outputs": [],
   "source": [
    "df_result = lda_model(df_clean,10, 6)"
   ]
  },
  {
   "cell_type": "code",
   "execution_count": 182,
   "metadata": {
    "ExecuteTime": {
     "end_time": "2019-05-06T21:49:04.991399Z",
     "start_time": "2019-05-06T21:49:04.975935Z"
    }
   },
   "outputs": [
    {
     "data": {
      "text/html": [
       "<div>\n",
       "<style scoped>\n",
       "    .dataframe tbody tr th:only-of-type {\n",
       "        vertical-align: middle;\n",
       "    }\n",
       "\n",
       "    .dataframe tbody tr th {\n",
       "        vertical-align: top;\n",
       "    }\n",
       "\n",
       "    .dataframe thead th {\n",
       "        text-align: right;\n",
       "    }\n",
       "</style>\n",
       "<table border=\"1\" class=\"dataframe\">\n",
       "  <thead>\n",
       "    <tr style=\"text-align: right;\">\n",
       "      <th></th>\n",
       "      <th>topic</th>\n",
       "      <th>topic_number</th>\n",
       "    </tr>\n",
       "  </thead>\n",
       "  <tbody>\n",
       "    <tr>\n",
       "      <th>0</th>\n",
       "      <td>take product information cloud help roadmap</td>\n",
       "      <td>1</td>\n",
       "    </tr>\n",
       "    <tr>\n",
       "      <th>1</th>\n",
       "      <td>customer much come feature allow future</td>\n",
       "      <td>2</td>\n",
       "    </tr>\n",
       "    <tr>\n",
       "      <th>2</th>\n",
       "      <td>ahead release date need go better</td>\n",
       "      <td>3</td>\n",
       "    </tr>\n",
       "    <tr>\n",
       "      <th>3</th>\n",
       "      <td>need able feature sell roadmap influence</td>\n",
       "      <td>4</td>\n",
       "    </tr>\n",
       "    <tr>\n",
       "      <th>4</th>\n",
       "      <td>product customers investment plan help customer</td>\n",
       "      <td>5</td>\n",
       "    </tr>\n",
       "    <tr>\n",
       "      <th>5</th>\n",
       "      <td>vision microsoft come point say application</td>\n",
       "      <td>6</td>\n",
       "    </tr>\n",
       "    <tr>\n",
       "      <th>6</th>\n",
       "      <td>might use specific feature better interest</td>\n",
       "      <td>7</td>\n",
       "    </tr>\n",
       "    <tr>\n",
       "      <th>7</th>\n",
       "      <td>customers roadmap detail show understand time</td>\n",
       "      <td>8</td>\n",
       "    </tr>\n",
       "    <tr>\n",
       "      <th>8</th>\n",
       "      <td>customers better help detail us give</td>\n",
       "      <td>9</td>\n",
       "    </tr>\n",
       "    <tr>\n",
       "      <th>9</th>\n",
       "      <td>content help include useful months provide</td>\n",
       "      <td>10</td>\n",
       "    </tr>\n",
       "  </tbody>\n",
       "</table>\n",
       "</div>"
      ],
      "text/plain": [
       "                                             topic  topic_number\n",
       "0      take product information cloud help roadmap             1\n",
       "1          customer much come feature allow future             2\n",
       "2                ahead release date need go better             3\n",
       "3         need able feature sell roadmap influence             4\n",
       "4  product customers investment plan help customer             5\n",
       "5      vision microsoft come point say application             6\n",
       "6       might use specific feature better interest             7\n",
       "7    customers roadmap detail show understand time             8\n",
       "8             customers better help detail us give             9\n",
       "9       content help include useful months provide            10"
      ]
     },
     "execution_count": 182,
     "metadata": {},
     "output_type": "execute_result"
    }
   ],
   "source": [
    "df_result"
   ]
  },
  {
   "cell_type": "code",
   "execution_count": 180,
   "metadata": {
    "ExecuteTime": {
     "end_time": "2019-05-06T21:47:18.047231Z",
     "start_time": "2019-05-06T21:47:18.029794Z"
    }
   },
   "outputs": [],
   "source": [
    "df_result.to_csv('Marc/Q20_top_6_topics.csv')"
   ]
  },
  {
   "cell_type": "code",
   "execution_count": null,
   "metadata": {},
   "outputs": [],
   "source": []
  }
 ],
 "metadata": {
  "kernelspec": {
   "display_name": "Python 3",
   "language": "python",
   "name": "python3"
  },
  "language_info": {
   "codemirror_mode": {
    "name": "ipython",
    "version": 3
   },
   "file_extension": ".py",
   "mimetype": "text/x-python",
   "name": "python",
   "nbconvert_exporter": "python",
   "pygments_lexer": "ipython3",
   "version": "3.7.3"
  },
  "toc": {
   "base_numbering": 1,
   "nav_menu": {},
   "number_sections": true,
   "sideBar": true,
   "skip_h1_title": false,
   "title_cell": "Table of Contents",
   "title_sidebar": "Contents",
   "toc_cell": true,
   "toc_position": {
    "height": "calc(100% - 180px)",
    "left": "10px",
    "top": "150px",
    "width": "374.219px"
   },
   "toc_section_display": true,
   "toc_window_display": true
  },
  "varInspector": {
   "cols": {
    "lenName": 16,
    "lenType": 16,
    "lenVar": 40
   },
   "kernels_config": {
    "python": {
     "delete_cmd_postfix": "",
     "delete_cmd_prefix": "del ",
     "library": "var_list.py",
     "varRefreshCmd": "print(var_dic_list())"
    },
    "r": {
     "delete_cmd_postfix": ") ",
     "delete_cmd_prefix": "rm(",
     "library": "var_list.r",
     "varRefreshCmd": "cat(var_dic_list()) "
    }
   },
   "types_to_exclude": [
    "module",
    "function",
    "builtin_function_or_method",
    "instance",
    "_Feature"
   ],
   "window_display": false
  }
 },
 "nbformat": 4,
 "nbformat_minor": 2
}
